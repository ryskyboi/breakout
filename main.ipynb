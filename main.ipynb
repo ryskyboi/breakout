{
 "cells": [
  {
   "cell_type": "markdown",
   "id": "4b16bf98",
   "metadata": {},
   "source": [
    "## Breakout"
   ]
  },
  {
   "cell_type": "markdown",
   "id": "874b6a80",
   "metadata": {},
   "source": [
    "How does breakout make money?\n",
    "\n",
    "- Fees from Evaluation\n",
    "- It can make money by getting 10% of the fees from a good trader\n",
    "  \n",
    "How does breakout lose money?\n",
    "- When traders lose money, we lose money\n",
    "- We can lose a max of $6k before the account is closed\n",
    "\n",
    "If the eval fee is 800 and we can lose 6k. We are guaranteed to make money if we let in less than 800/6000 = 13% of people\n",
    "\n",
    "Or generally if we let in less than x/y % of people where x is the evaluation fee and y is the max loss on the account\n",
    "\n",
    "There are also some other ways that we can make out EV\n",
    "\n",
    "Breakout has the following fees:\n",
    "\n",
    "\"\"\"\n",
    "Our trading fees are 0.035% per side.\n",
    "\n",
    "This is equivalent to 3.5 basis points/side = 7 basis points per round trip (opening and closing a trade).\n",
    "\n",
    "As such, you are charged 0.035%/3.5 basis points when opening a trade, and 0.035%/3.5 basis points when closing a trade.\n",
    "\n",
    "This is calculated using the notional size of the position.\n",
    "\n",
    "For example: You open a \\$100,000 notional position. The fee is 0.035%/3.5 basis points. You will be charged \\$35.00 when opening the trade.\n",
    "\n",
    "Example continued: You close a \\$100,000 notional position. The fee is 0.035%/3.5 basis points. You will be charged \\$35.00 when closing the trade.\n",
    "\n",
    "There is also a swap fee of 0.09% per open position per day. This applies to positions that are open at the daily rollover (0000 UTC). The swap fee will be deducted from your balance at 0025 UTC.\n",
    "\"\"\"\n",
    "\n",
    "This is actually very similar to a what a normal trading platform would charge and maybe actually a bit less than the average perps platform. We could possibly juice them a little bit"
   ]
  },
  {
   "cell_type": "markdown",
   "id": "5d217492",
   "metadata": {},
   "source": [
    "For a single person our payoff looks something like this:\n",
    "$$\n",
    "\\alpha_{i,m} \\cdot \\left(x_i^{\\text{exit}} - x_{i,m}^{\\text{entry}}\\right) \\cdot \\left( \\frac{1}{10} \\cdot \\mathbf{1}_{s_{i,m} \\left(x_i^{\\text{exit}} - x_{i,m}^{\\text{entry}} \\right) > 0} - \\mathbf{1}_{s_{i,m} \\left(x_i^{\\text{exit}} - x_{i,m}^{\\text{entry}} \\right) < 0} \\right)\n",
    "\n",
    "$$\n",
    "\n",
    "Where:\n",
    "- $\\alpha_{i,m}$: the position size of user $m$ on instrument $i$\n",
    "- $x_{i,m}^{\\text{entry}}$: the entry price (mark price when they entered)\n",
    "- $x_{i}^{\\text{exit}}$: the exit price (current mark price)\n",
    "- $s_{i,m} \\in \\{1, -1\\}$: the position direction (1 = long, -1 = short)\n",
    "\n",
    "Then the our payoff for that user looks something like:\n",
    "\n",
    "$$\n",
    "\\sum_{i \\in \\mathcal{I}_m} \\alpha_{i,m} \\cdot \\left(x_i^{\\text{exit}} - x_{i,m}^{\\text{entry}}\\right) \\cdot \\left( \\frac{1}{10} \\cdot \\mathbf{1}_{s_{i,m} \\left(x_i^{\\text{exit}} - x_{i,m}^{\\text{entry}} \\right) > 0} - \\mathbf{1}_{s_{i,m} \\left(x_i^{\\text{exit}} - x_{i,m}^{\\text{entry}} \\right) < 0} \\right)\n",
    "$$\n",
    "\n",
    "\n",
    "Where:\n",
    "- The set of instruments is indexed by $i \\in \\mathcal{I}_m$, where $\\mathcal{I}_m$ is the set of instruments that user $m$ has a position in.\n",
    "\n",
    "$$\n",
    "\\sum_{m \\in \\mathcal{M}} \\sum_{i \\in \\mathcal{I}_m} \\alpha_{i,m} \\cdot \\left(x_i^{\\text{exit}} - x_{i,m}^{\\text{entry}}\\right) \\cdot \\left( \\frac{1}{10} \\cdot \\mathbf{1}_{s_{i,m} \\left(x_i^{\\text{exit}} - x_{i,m}^{\\text{entry}} \\right) > 0} - \\mathbf{1}_{s_{i,m} \\left(x_i^{\\text{exit}} - x_{i,m}^{\\text{entry}} \\right) < 0} \\right)\n",
    "$$\n",
    "\n",
    "Where:\n",
    "- $\\mathcal{M}$: the set of all users $m$"
   ]
  },
  {
   "cell_type": "markdown",
   "id": "2b00cdf5",
   "metadata": {},
   "source": [
    "Then if we define:\n",
    "$$\n",
    "\\mathcal{P}_{i,m} := \\frac{1}{10} \\cdot \\mathbf{1}_{s_{i,m}(x_i^{\\text{exit}} - x_{i,m}^{\\text{entry}}) > 0} - \\mathbf{1}_{s_{i,m}(x_i^{\\text{exit}} - x_{i,m}^{\\text{entry}}) < 0}\n",
    "$$\n",
    "\n",
    "We get:\n",
    "$$\n",
    "\\sum_{m \\in \\mathcal{M}} \\sum_{i \\in \\mathcal{I}_m} \\alpha_{i,m} \\cdot (x_i^{\\text{exit}} - x_{i,m}^{\\text{entry}}) \\cdot \\mathcal{P}_{i,m}\n",
    "$$\n",
    "\n",
    "Which lastly gives:\n",
    "$$\n",
    "\\sum_{i \\in \\mathcal{I}_m}  x_i^{\\text{exit}} \\sum_{m \\in \\mathcal{M}} \\alpha_{i,m} \\cdot \\mathcal{P}_{i,m} - \\sum_{m \\in \\mathcal{M}} \\sum_{i \\in \\mathcal{I}_m} \\alpha_{i,m} \\cdot x_{i,m}^{\\text{entry}} \\cdot \\mathcal{P}_{i,m}\n",
    "$$\n",
    "\n"
   ]
  },
  {
   "cell_type": "markdown",
   "id": "779ff16c",
   "metadata": {},
   "source": []
  }
 ],
 "metadata": {
  "kernelspec": {
   "display_name": "breakout-SgHgOt8m-py3.12",
   "language": "python",
   "name": "python3"
  },
  "language_info": {
   "name": "python",
   "version": "3.12.3"
  }
 },
 "nbformat": 4,
 "nbformat_minor": 5
}
